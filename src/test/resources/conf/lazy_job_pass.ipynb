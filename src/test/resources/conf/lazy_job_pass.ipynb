{
 "cells": [
  {
   "cell_type": "code",
   "execution_count": null,
   "metadata": {},
   "outputs": [],
   "source": [
    "%configexecute name=\"configexecute\" environments=production,test\n",
    "SELECT TO_JSON(NAMED_STRUCT('LAZY_PARAMETER', 'TRUE')) AS parameters"
   ]
  },
  {
   "cell_type": "code",
   "execution_count": null,
   "metadata": {},
   "outputs": [],
   "source": [
    "%sql name=\"sqltransform\" outputView=outputView environments=production,test sqlParams=LAZY_PARAMETER=${LAZY_PARAMETER} resolution=lazy\n",
    "SELECT ${LAZY_PARAMETER}"
   ]
  }
 ],
 "metadata": {
  "kernelspec": {
   "display_name": "Arc",
   "language": "javascript",
   "name": "arc"
  },
  "language_info": {
   "codemirror_mode": "javascript",
   "file_extension": ".json",
   "mimetype": "javascript",
   "name": "arc",
   "nbconvert_exporter": "arcexport",
   "version": "3.6.0"
  }
 },
 "nbformat": 4,
 "nbformat_minor": 4
}
