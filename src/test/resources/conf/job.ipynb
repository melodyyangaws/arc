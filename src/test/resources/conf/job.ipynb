{
 "cells": [
  {
   "cell_type": "code",
   "execution_count": null,
   "metadata": {},
   "outputs": [],
   "source": [
    "%conf streaming=true"
   ]
  },
  {
   "cell_type": "markdown",
   "metadata": {},
   "source": [
    "## Markdown cell\n",
    "A markdown cell to ensure the conversion doesn't break."
   ]
  },
  {
   "cell_type": "code",
   "execution_count": null,
   "metadata": {},
   "outputs": [],
   "source": [
    "{\n",
    "  \"type\": \"RateExtract\",\n",
    "  \"name\": \"create a streaming source\",\n",
    "  \"environments\": [\n",
    "    \"production\",\n",
    "    \"test\"\n",
    "  ],\n",
    "  \"outputView\": \"stream\"\n",
    "}"
   ]
  },
  {
   "cell_type": "code",
   "execution_count": null,
   "metadata": {},
   "outputs": [],
   "source": [
    "%sql\n",
    "SELECT *\n",
    "FROM stream"
   ]
  },
  {
   "cell_type": "raw",
   "metadata": {},
   "source": [
    "a raw NBConvert cell"
   ]
  },
  {
   "cell_type": "code",
   "execution_count": null,
   "metadata": {},
   "outputs": [],
   "source": [
    "%configplugin\n",
    "{\n",
    "  \"type\": \"ai.tripl.arc.plugins.TestDynamicConfigurationPlugin\",\n",
    "  \"environments\": [\"test\"],\n",
    "  \"key\": \"testValue\"\n",
    "}"
   ]
  },
  {
   "cell_type": "code",
   "execution_count": null,
   "metadata": {},
   "outputs": [],
   "source": [
    "%lifecycleplugin\n",
    "{\n",
    "  \"type\": \"ai.tripl.arc.plugins.TestLifecyclePlugin\",\n",
    "  \"name\": \"test\",\n",
    "  \"environments\": [\"test\"],\n",
    "  \"outputViewBefore\": \"before\",\n",
    "  \"outputViewAfter\": \"after\",\n",
    "  \"value\": \"testValue\"\n",
    "}"
   ]
  },
  {
   "cell_type": "code",
   "execution_count": null,
   "metadata": {},
   "outputs": [],
   "source": [
    "%arc numRows=10\n",
    "{\n",
    "  \"type\": \"RateExtract\",\n",
    "  \"name\": \"create a streaming second source\",\n",
    "  \"environments\": [\n",
    "    \"production\",\n",
    "    \"test\"\n",
    "  ],\n",
    "  \"outputView\": \"stream2\"\n",
    "}"
   ]
  },
  {
   "cell_type": "code",
   "execution_count": null,
   "metadata": {},
   "outputs": [],
   "source": [
    "%configexecute name=\"configexecute\" environments=production,test\n",
    "SELECT TO_JSON(NAMED_STRUCT('LAZY_PARAMETER', 'TRUE')) AS parameters"
   ]
  }
 ],
 "metadata": {
  "kernelspec": {
   "display_name": "Arc",
   "language": "javascript",
   "name": "arc"
  },
  "language_info": {
   "file_extension": "arc",
   "mimetype": "text/arc",
   "name": "arc",
   "nbconvert_exporter": "text",
   "version": "1.7.1"
  }
 },
 "nbformat": 4,
 "nbformat_minor": 2
}
